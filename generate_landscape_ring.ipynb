{
 "cells": [
  {
   "cell_type": "code",
   "execution_count": 1,
   "metadata": {},
   "outputs": [],
   "source": [
    "import numpy as np\n",
    "from numpy import array as ar\n",
    "import matplotlib.pyplot as plt"
   ]
  },
  {
   "cell_type": "code",
   "execution_count": 11,
   "metadata": {},
   "outputs": [],
   "source": [
    "n_wells = 3;\n",
    "depths = ar([5,5,5]);\n",
    "widths = ar([1,1,1]);\n",
    "seps = ar([3,3,3])"
   ]
  },
  {
   "cell_type": "code",
   "execution_count": 12,
   "metadata": {},
   "outputs": [],
   "source": [
    "# There are several input variables we require:\n",
    "# n_wells: the number of stimulus-response pairings in the environment. \n",
    "# depths: the depths of all wells; must be length of n_wells.\n",
    "# widths: the width of all wells; must be length of n_wells.\n",
    "# seps: the separation betewen wells; must be length of n_wells.\n",
    "    # Separation between first well and last well should be first separation value.\n",
    "\n",
    "# after this shift, depths = V(x), such that the deepest well has V(x)=0\n",
    "bg_height = np.max(depths);\n",
    "depths = bg_height-depths;\n",
    "\n",
    "# Now, we need to determine the width of the buffer region that allows\n",
    "# the TISE solutions to converge. This is a function of the minimum debroglie\n",
    "# wavelength for the whole system\n",
    "\n",
    "min_debroglie = (2*np.pi)/np.sqrt(2*bg_height)\n",
    "\n",
    "# the min debroglie wavelength also determines the resolution with which V(x)\n",
    "# is discretized\n",
    "\n",
    "dx = min_debroglie/((2**4)*np.pi)\n",
    "# we no longer wish to consider a \"background\" width. Indstead, we will want to take in one more separation value\n",
    "#bg_width = 2*min_debroglie\n",
    "\n",
    "# We want to interleave the seps with the widths and have the bg_width on either side\n",
    "# This is not optimal. There's definitely a more efficient method of doing this, but we're on a time crunch.\n",
    "seps_rescale = np.append(1/2,np.ones(n_wells-1))\n",
    "seps = seps_rescale*seps\n",
    "widths = np.append([val for pair in zip(seps,widths) for val in pair],seps[0])\n",
    "\n",
    "# We want widths and depths of equal length and to describe the width and depth of the entire landscape\n",
    "fd = depths\n",
    "zd = bg_height*np.ones(len(fd))\n",
    "depths = np.append(bg_height,[val for pair in zip(fd,zd) for val in pair])\n",
    "\n",
    "# now we assign the number of steps in the V(x) vector for each depth value\n",
    "steps = np.ceil(widths/dx)"
   ]
  },
  {
   "cell_type": "code",
   "execution_count": 13,
   "metadata": {},
   "outputs": [],
   "source": [
    "# now we assign the number of steps in the V(x) vector for each depth value\n",
    "bound_idxs =np.append(0,np.cumsum(steps)).astype(int)\n",
    "V = np.zeros(int(np.sum(steps)))\n",
    "\n",
    "# finally, we fill in V with a simple for loop\n",
    "for i in range(len(bound_idxs)-1):\n",
    "    V[bound_idxs[i]:bound_idxs[i+1]]=depths[i]\n",
    "\n"
   ]
  },
  {
   "cell_type": "code",
   "execution_count": 14,
   "metadata": {},
   "outputs": [
    {
     "data": {
      "text/plain": [
       "[<matplotlib.lines.Line2D at 0x11dc76fd0>]"
      ]
     },
     "execution_count": 14,
     "metadata": {},
     "output_type": "execute_result"
    },
    {
     "data": {
      "image/png": "[encoded data removed]",
      "text/plain": [
       "<Figure size 432x288 with 1 Axes>"
      ]
     },
     "metadata": {
      "needs_background": "light"
     },
     "output_type": "display_data"
    }
   ],
   "source": [
    "plt.plot(V)"
   ]
  }
 ],
 "metadata": {
  "kernelspec": {
   "display_name": "Python 3",
   "language": "python",
   "name": "python3"
  },
  "language_info": {
   "codemirror_mode": {
    "name": "ipython",
    "version": 3
   },
   "file_extension": ".py",
   "mimetype": "text/x-python",
   "name": "python",
   "nbconvert_exporter": "python",
   "pygments_lexer": "ipython3",
   "version": "3.8.3"
  }
 },
 "nbformat": 4,
 "nbformat_minor": 4
}
