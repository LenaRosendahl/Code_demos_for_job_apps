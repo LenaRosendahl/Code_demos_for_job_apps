{
 "cells": [
  {
   "cell_type": "code",
   "execution_count": 1,
   "metadata": {},
   "outputs": [],
   "source": [
    "import numpy as np\n",
    "from numpy import array as ar\n",
    "import matplotlib.pyplot as plt\n",
    "import numpy.linalg as la"
   ]
  },
  {
   "cell_type": "code",
   "execution_count": 2,
   "metadata": {},
   "outputs": [],
   "source": [
    "# This function is simply designed to take inputs about a linear landscape and return a V(x) vector.\n",
    "\n",
    "def gen_landsape_ring(n_wells,depths,widths,seps):\n",
    "    # There are several input variables we require:\n",
    "    # n_wells: the number of stimulus-response pairings in the environment. \n",
    "    # depths: the depths of all wells; must be length of n_wells.\n",
    "    # widths: the width of all wells; must be length of n_wells.\n",
    "    # seps: the separation betewen wells; must be length of n_wells.\n",
    "        # Separation between first well and last well should be first seps value.\n",
    "\n",
    "    # after this shift, depths = V(x), such that the deepest well has V(x)=0\n",
    "    bg_height = np.max(depths);\n",
    "    depths = bg_height-depths;\n",
    "\n",
    "    # Now, we need to determine the width of the buffer region that allows\n",
    "    # the TISE solutions to converge. This is a function of the minimum debroglie\n",
    "    # wavelength for the whole system\n",
    "\n",
    "    min_debroglie = (2*np.pi)/np.sqrt(2*bg_height)\n",
    "\n",
    "    # the min debroglie wavelength also determines the resolution with which V(x)\n",
    "    # is discretized\n",
    "\n",
    "    dx = min_debroglie/((2**6)*np.pi)\n",
    "    # we no longer wish to consider a \"background\" width. Indstead, we will want to take in one more separation value\n",
    "    #bg_width = 2*min_debroglie\n",
    "\n",
    "    # We want to interleave the seps with the widths and have the bg_width on either side\n",
    "    # This is not optimal. There's definitely a more efficient method of doing this, but we're on a time crunch.\n",
    "    seps_rescale = np.append(1/2,np.ones(n_wells-1))\n",
    "    seps = seps_rescale*seps\n",
    "    widths = np.append([val for pair in zip(seps,widths) for val in pair],seps[0])\n",
    "\n",
    "    # We want widths and depths of equal length and to describe the width and depth of the entire landscape\n",
    "    fd = depths\n",
    "    zd = bg_height*np.ones(len(fd))\n",
    "    depths = np.append(bg_height,[val for pair in zip(fd,zd) for val in pair])\n",
    "\n",
    "    # now we assign the number of steps in the V(x) vector for each depth value\n",
    "    steps = np.ceil(widths/dx)\n",
    "\n",
    "    # now we assign the number of steps in the V(x) vector for each depth value\n",
    "    bound_idxs =np.append(0,np.cumsum(steps)).astype(int)\n",
    "    V = np.zeros(int(np.sum(steps)))\n",
    "\n",
    "    # finally, we fill in V with a simple for loop\n",
    "    for i in range(len(bound_idxs)-1):\n",
    "        V[bound_idxs[i]:bound_idxs[i+1]]=depths[i]\n",
    "\n",
    "    \n",
    "    return [dx,bound_idxs,V]\n"
   ]
  },
  {
   "cell_type": "code",
   "execution_count": 9,
   "metadata": {},
   "outputs": [],
   "source": [
    "# this function requires several inputs, including those relevant to the landscape.\n",
    "n_wells = 3;\n",
    "depths = 10*np.ones(n_wells)#+0.01*np.random.rand(n_wells)\n",
    "widths = 2*np.ones(n_wells)#+np.random.rand(n_wells)\n",
    "seps = 2*np.ones(n_wells)#+np.random.rand(n_wells-1)\n",
    "\n",
    "landscape_info = gen_landsape_ring(n_wells,depths,widths,seps)\n",
    "dx = landscape_info[0]\n",
    "bound_idxs = landscape_info[1]\n",
    "vx = landscape_info[2]\n",
    "\n",
    "# now, we can get the variables back out that we need:\n",
    "n_steps = len(vx)\n",
    "bg_height = np.max(vx)\n",
    "\n",
    "# we will now execute the Numerov method for solving the TISE:\n",
    "# we start by embedding V(x) on the diagonal of an otherwise empty matrix\n",
    "V_mat = np.diag(vx,0)\n",
    "# and construct the matrices A and B in accordance with Pillai et al\n",
    "A = (-1/2)*(1/dx**(2))*(np.diag(-2*np.ones(n_steps),0)+np.diag(np.ones(n_steps-1),-1)+np.diag(np.ones(n_steps-1),1))\n",
    "B = (1/12)*(np.diag(10*np.ones(n_steps),0)+np.diag(np.ones(n_steps-1),-1)+np.diag(np.ones(n_steps-1),+1))\n",
    "# periodic boundary conditions require a small change in A and B\n",
    "A[0,-1] = (-1/2)/dx**2\n",
    "A[-1,0] = A[0,1]\n",
    "B[0,-1] = 1/12\n",
    "B[-1,0] = B[0,-1]\n",
    "D = la.eig(np.dot(la.inv(B),A)+V_mat)\n",
    "\n",
    "# The eigen values that sit below background energy give the bound eigen energies\n",
    "# their corresponding eigen vectors give the eigenstates of the system\n",
    "# the l2 norm of these gives the PDF. \n",
    "eig_vals = D[0]\n",
    "eig_vecs = D[1]\n",
    "idx = eig_vals.argsort()#[::-1]   \n",
    "eig_vals = eig_vals[idx]\n",
    "eig_vecs = eig_vecs[:,idx]\n",
    "bound_state_idx = np.squeeze(np.where(eig_vals<bg_height))\n",
    "bound_energies = eig_vals[bound_state_idx]\n",
    "n_energies = len(bound_state_idx)\n",
    "bound_states = np.squeeze(eig_vecs[:,bound_state_idx])\n",
    "pdfs = bound_states*bound_states\n",
    "\n",
    "# We finally return the normalized PDFs here.\n",
    "pdf_ints = np.trapz(pdfs,axis = 0)\n",
    "normd_pdfs = pdfs / np.transpose(pdf_ints[:, np.newaxis])\n",
    "\n",
    "# And, in order to get the MIEs, we simply integrate from the lower to the upper bound\n",
    "# of each well. This could probably be vectorized to avoid the for loop. \n",
    "sample_pdf = normd_pdfs[:,0]\n",
    "M_set = np.empty((n_energies,n_wells))\n",
    "for well in range(n_wells):\n",
    "    M_set[:,well] = np.trapz(normd_pdfs[bound_idxs[2*well+1]:bound_idxs[2*well+2]],axis=0)\n",
    "    \n"
   ]
  },
  {
   "cell_type": "code",
   "execution_count": 11,
   "metadata": {},
   "outputs": [
    {
     "data": {
      "text/plain": [
       "[<matplotlib.lines.Line2D at 0x1256bc460>]"
      ]
     },
     "execution_count": 11,
     "metadata": {},
     "output_type": "execute_result"
    },
    {
     "data": {
      "image/png": "[encoded data removed]",
      "text/plain": [
       "<Figure size 432x288 with 1 Axes>"
      ]
     },
     "metadata": {
      "needs_background": "light"
     },
     "output_type": "display_data"
    }
   ],
   "source": [
    "M_set\n",
    "bound_energies\n",
    "plt.plot(bound_energies)"
   ]
  },
  {
   "cell_type": "code",
   "execution_count": null,
   "metadata": {},
   "outputs": [],
   "source": []
  }
 ],
 "metadata": {
  "kernelspec": {
   "display_name": "Python 3",
   "language": "python",
   "name": "python3"
  },
  "language_info": {
   "codemirror_mode": {
    "name": "ipython",
    "version": 3
   },
   "file_extension": ".py",
   "mimetype": "text/x-python",
   "name": "python",
   "nbconvert_exporter": "python",
   "pygments_lexer": "ipython3",
   "version": "3.8.3"
  }
 },
 "nbformat": 4,
 "nbformat_minor": 4
}
